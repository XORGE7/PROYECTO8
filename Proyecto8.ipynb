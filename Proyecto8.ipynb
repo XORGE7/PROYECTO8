{
 "cells": [
  {
   "cell_type": "markdown",
   "metadata": {},
   "source": [
    "¡Hola Jorge! Como te va?\n",
    "\n",
    "Mi nombre es Facundo Lozano! Un gusto conocerte, seré tu revisor en este proyecto.\n",
    "\n",
    "A continuación un poco sobre la modalidad de revisión que usaremos:\n",
    "\n",
    "Cuando enccuentro un error por primera vez, simplemente lo señalaré, te dejaré encontrarlo y arreglarlo tú cuenta. Además, a lo largo del texto iré haciendo algunas observaciones sobre mejora en tu código y también haré comentarios sobre tus percepciones sobre el tema. Pero si aún no puedes realizar esta tarea, te daré una pista más precisa en la próxima iteración y también algunos ejemplos prácticos. Estaré abierto a comentarios y discusiones sobre el tema.\n",
    "\n",
    "Encontrará mis comentarios a continuación: **no los mueva, modifique ni elimine**.\n",
    "\n",
    "Puedes encontrar mis comentarios en cuadros verdes, amarillos o rojos como este:\n",
    "\n",
    "<div class=\"alert alert-block alert-success\">\n",
    "<b>Comentario del revisor.</b> <a class=\"tocSkip\"></a>\n",
    "\n",
    "Exito. Todo se ha hecho de forma exitosa.\n",
    "</div>\n",
    "\n",
    "<div class=\"alert alert-block alert-warning\">\n",
    "<b>Comentario del revisor.</b> <a class=\"tocSkip\"></a>\n",
    "\n",
    "Observación. Algunas recomendaciones.\n",
    "</div>\n",
    "\n",
    "<div class=\"alert alert-block alert-danger\">\n",
    "\n",
    "<b>Comentario del revisor.</b> <a class=\"tocSkip\"></a>\n",
    "\n",
    "Necesita arreglos. Este apartado necesita algunas correcciones. El trabajo no puede ser aceptado con comentarios rojos. \n",
    "</div>\n",
    "\n",
    "Puedes responder utilizando esto:\n",
    "\n",
    "<div class=\"alert alert-block alert-info\">\n",
    "<b>Respuesta de estudiante.</b> <a class=\"tocSkip\"></a>\n"
   ]
  },
  {
   "cell_type": "markdown",
   "metadata": {},
   "source": [
    "# Descripcion del proyecto # 8"
   ]
  },
  {
   "cell_type": "markdown",
   "metadata": {},
   "source": [
    "<div class=\"alert alert-block alert-success\">\n",
    "<b>Review General. (Iteración 1) </b> <a class=\"tocSkip\"></a>\n",
    "\n",
    "Buenas Jorge! Siempre me tomo este tiempo al inicio de tu proyecto para comentarte mis apreciaciones generales de esta iteración de tu entrega. \n",
    "\n",
    "Me gusta comenzar dando la bienvenida al mundo de los datos a los estudiantes, te deseo lo mejor y espero que consigas lograr tus objetivos. Personalmente me gusta brindar el siguiente consejo, \"Está bien equivocarse, es normal y es lo mejor que te puede pasar. Aprendemos de los errores y eso te hará mejor programando ya que podrás descubrir cosas a medida que avances y son estas cosas las que te darán esa experiencia para ser mejor como  Data Scientist\"\n",
    "\n",
    "Ahora si yendo a esta notebook. Lo he dicho al final del proyecto pero lo resalto aquí nuevamente, tu proyecto está muy bien resuelto Jorge, resalta capacidad y comprensión de todas las herrramientas, como a la vez esta ordenado y es sencillo de seguir, felictiaciones!\n",
    "\n",
    "Este proyecto está en condiciones de ser aprobado! Éxitos dentro de tu camino en el mundo de los datos!\n",
    "\n",
    "Saludos Jorge!"
   ]
  },
  {
   "cell_type": "markdown",
   "metadata": {},
   "source": [
    "La compañía móvil Megaline no está satisfecha al ver que muchos de sus clientes utilizan planes heredados. Quieren desarrollar un modelo que pueda analizar el comportamiento de los clientes y recomendar uno de los nuevos planes de Megaline: Smart o Ultra.\n",
    "\n",
    "Tienes acceso a los datos de comportamiento de los suscriptores que ya se han cambiado a los planes nuevos (del proyecto del sprint de Análisis estadístico de datos). Para esta tarea de clasificación debes crear un modelo que escoja el plan correcto.\n",
    "\n",
    "Como ya hiciste el paso de procesar los datos, puedes lanzarte directo a crear el modelo.\n",
    "Desarrolla un modelo con la mayor exactitud posible. En este proyecto, el umbral de exactitud es 0.75. Usa el dataset para comprobar la exactitud."
   ]
  },
  {
   "cell_type": "markdown",
   "metadata": {},
   "source": [
    "## Instrucciones del proyecto"
   ]
  },
  {
   "cell_type": "markdown",
   "metadata": {},
   "source": [
    "- Abre y examina el archivo de datos. Dirección al archivo:datasets/users_behavior.csv Descarga el dataset\n",
    "- Segmenta los datos fuente en un conjunto de entrenamiento, uno de validación y uno de prueba.\n",
    "- Investiga la calidad de diferentes modelos cambiando los hiperparámetros. Describe brevemente los hallazgos del estudio.\n",
    "- Comprueba la calidad del modelo usando el conjunto de prueba.\n",
    "- Tarea adicional: haz una prueba de cordura al modelo. Estos datos son más complejos que los que habías usado antes así que no será una tarea fácil. Más adelante lo veremos con más detalle.\n"
   ]
  },
  {
   "cell_type": "raw",
   "metadata": {},
   "source": [
    "## Descripcion de datos"
   ]
  },
  {
   "cell_type": "markdown",
   "metadata": {},
   "source": [
    "Cada observación en el dataset contiene información del comportamiento mensual sobre un usuario. La información dada es la siguiente:\n",
    "\n",
    "- сalls — número de llamadas,\n",
    "- minutes — duración total de la llamada en minutos,\n",
    "- messages — número de mensajes de texto,\n",
    "- mb_used — Tráfico de Internet utilizado en MB,\n",
    "- is_ultra — plan para el mes actual (Ultra - 1, Smart - 0)."
   ]
  },
  {
   "cell_type": "markdown",
   "metadata": {},
   "source": [
    "## Evaluación del proyecto"
   ]
  },
  {
   "cell_type": "markdown",
   "metadata": {},
   "source": [
    "Hemos definido los criterios de evaluación para el proyecto. Lee esto con atención antes de pasar al ejercicio. \n",
    "Esto es lo que los revisores buscarán cuando evalúen tu proyecto:\n",
    "\n",
    "- ¿Cómo leíste los datos después de descargarlos?\n",
    "- ¿Segmentaste correctamente los datos en conjuntos de entrenamiento, validación y prueba?\n",
    "- ¿Cómo escogiste el tamaño de los conjuntos?\n",
    "- ¿Evaluaste correctamente la calidad del modelo?\n",
    "- ¿Qué modelos e hiperparámentros usaste?\n",
    "- ¿Cuáles fueron tus hallazgos?\n",
    "- ¿Probaste los modelos correctamente?\n",
    "- ¿Cuál es tu puntuación de exactitud?\n",
    "- ¿Te ceñiste a la estructura del proyecto y mantuviste limpio el código?\n",
    "\n",
    "Tienes tus hojas informativas y los resúmenes de los capítulos así que ya puedes continuar con el proyecto.\n",
    "¡Buena suerte!"
   ]
  },
  {
   "cell_type": "markdown",
   "metadata": {},
   "source": [
    "### Importar librerias necesarias para el proyecto"
   ]
  },
  {
   "cell_type": "code",
   "execution_count": 10,
   "metadata": {},
   "outputs": [],
   "source": [
    "import pandas as pd\n",
    "from sklearn.model_selection import train_test_split\n",
    "from sklearn.linear_model import LogisticRegression\n",
    "from sklearn.ensemble import RandomForestClassifier\n",
    "from sklearn.metrics import accuracy_score\n",
    "from IPython.display import HTML\n",
    "from sklearn.model_selection import GridSearchCV"
   ]
  },
  {
   "cell_type": "markdown",
   "metadata": {},
   "source": [
    "### Importar Archivos"
   ]
  },
  {
   "cell_type": "code",
   "execution_count": 11,
   "metadata": {
    "scrolled": true
   },
   "outputs": [],
   "source": [
    "df = pd.read_csv(\"https://practicum-content.s3.us-west-1.amazonaws.com/datasets/users_behavior.csv\")"
   ]
  },
  {
   "cell_type": "markdown",
   "metadata": {},
   "source": [
    "### Mostrar datos relevantes del dataframe"
   ]
  },
  {
   "cell_type": "code",
   "execution_count": 12,
   "metadata": {},
   "outputs": [
    {
     "data": {
      "text/html": [
       "<hr>"
      ],
      "text/plain": [
       "<IPython.core.display.HTML object>"
      ]
     },
     "metadata": {},
     "output_type": "display_data"
    },
    {
     "data": {
      "text/html": [
       "<h1> Datos de comportamiento de usuarios "
      ],
      "text/plain": [
       "<IPython.core.display.HTML object>"
      ]
     },
     "metadata": {},
     "output_type": "display_data"
    },
    {
     "data": {
      "text/html": [
       "<div>\n",
       "<style scoped>\n",
       "    .dataframe tbody tr th:only-of-type {\n",
       "        vertical-align: middle;\n",
       "    }\n",
       "\n",
       "    .dataframe tbody tr th {\n",
       "        vertical-align: top;\n",
       "    }\n",
       "\n",
       "    .dataframe thead th {\n",
       "        text-align: right;\n",
       "    }\n",
       "</style>\n",
       "<table border=\"1\" class=\"dataframe\">\n",
       "  <thead>\n",
       "    <tr style=\"text-align: right;\">\n",
       "      <th></th>\n",
       "      <th>calls</th>\n",
       "      <th>minutes</th>\n",
       "      <th>messages</th>\n",
       "      <th>mb_used</th>\n",
       "      <th>is_ultra</th>\n",
       "    </tr>\n",
       "  </thead>\n",
       "  <tbody>\n",
       "    <tr>\n",
       "      <th>0</th>\n",
       "      <td>40.0</td>\n",
       "      <td>311.90</td>\n",
       "      <td>83.0</td>\n",
       "      <td>19915.42</td>\n",
       "      <td>0</td>\n",
       "    </tr>\n",
       "    <tr>\n",
       "      <th>1</th>\n",
       "      <td>85.0</td>\n",
       "      <td>516.75</td>\n",
       "      <td>56.0</td>\n",
       "      <td>22696.96</td>\n",
       "      <td>0</td>\n",
       "    </tr>\n",
       "    <tr>\n",
       "      <th>2</th>\n",
       "      <td>77.0</td>\n",
       "      <td>467.66</td>\n",
       "      <td>86.0</td>\n",
       "      <td>21060.45</td>\n",
       "      <td>0</td>\n",
       "    </tr>\n",
       "    <tr>\n",
       "      <th>3</th>\n",
       "      <td>106.0</td>\n",
       "      <td>745.53</td>\n",
       "      <td>81.0</td>\n",
       "      <td>8437.39</td>\n",
       "      <td>1</td>\n",
       "    </tr>\n",
       "    <tr>\n",
       "      <th>4</th>\n",
       "      <td>66.0</td>\n",
       "      <td>418.74</td>\n",
       "      <td>1.0</td>\n",
       "      <td>14502.75</td>\n",
       "      <td>0</td>\n",
       "    </tr>\n",
       "  </tbody>\n",
       "</table>\n",
       "</div>"
      ],
      "text/plain": [
       "   calls  minutes  messages   mb_used  is_ultra\n",
       "0   40.0   311.90      83.0  19915.42         0\n",
       "1   85.0   516.75      56.0  22696.96         0\n",
       "2   77.0   467.66      86.0  21060.45         0\n",
       "3  106.0   745.53      81.0   8437.39         1\n",
       "4   66.0   418.74       1.0  14502.75         0"
      ]
     },
     "metadata": {},
     "output_type": "display_data"
    },
    {
     "name": "stdout",
     "output_type": "stream",
     "text": [
      "<class 'pandas.core.frame.DataFrame'>\n",
      "RangeIndex: 3214 entries, 0 to 3213\n",
      "Data columns (total 5 columns):\n",
      " #   Column    Non-Null Count  Dtype  \n",
      "---  ------    --------------  -----  \n",
      " 0   calls     3214 non-null   float64\n",
      " 1   minutes   3214 non-null   float64\n",
      " 2   messages  3214 non-null   float64\n",
      " 3   mb_used   3214 non-null   float64\n",
      " 4   is_ultra  3214 non-null   int64  \n",
      "dtypes: float64(4), int64(1)\n",
      "memory usage: 125.7 KB\n"
     ]
    },
    {
     "data": {
      "text/plain": [
       "None"
      ]
     },
     "metadata": {},
     "output_type": "display_data"
    },
    {
     "data": {
      "text/html": [
       "<div>\n",
       "<style scoped>\n",
       "    .dataframe tbody tr th:only-of-type {\n",
       "        vertical-align: middle;\n",
       "    }\n",
       "\n",
       "    .dataframe tbody tr th {\n",
       "        vertical-align: top;\n",
       "    }\n",
       "\n",
       "    .dataframe thead th {\n",
       "        text-align: right;\n",
       "    }\n",
       "</style>\n",
       "<table border=\"1\" class=\"dataframe\">\n",
       "  <thead>\n",
       "    <tr style=\"text-align: right;\">\n",
       "      <th></th>\n",
       "      <th>calls</th>\n",
       "      <th>minutes</th>\n",
       "      <th>messages</th>\n",
       "      <th>mb_used</th>\n",
       "      <th>is_ultra</th>\n",
       "    </tr>\n",
       "  </thead>\n",
       "  <tbody>\n",
       "    <tr>\n",
       "      <th>count</th>\n",
       "      <td>3214.000000</td>\n",
       "      <td>3214.000000</td>\n",
       "      <td>3214.000000</td>\n",
       "      <td>3214.000000</td>\n",
       "      <td>3214.000000</td>\n",
       "    </tr>\n",
       "    <tr>\n",
       "      <th>mean</th>\n",
       "      <td>63.038892</td>\n",
       "      <td>438.208787</td>\n",
       "      <td>38.281269</td>\n",
       "      <td>17207.673836</td>\n",
       "      <td>0.306472</td>\n",
       "    </tr>\n",
       "    <tr>\n",
       "      <th>std</th>\n",
       "      <td>33.236368</td>\n",
       "      <td>234.569872</td>\n",
       "      <td>36.148326</td>\n",
       "      <td>7570.968246</td>\n",
       "      <td>0.461100</td>\n",
       "    </tr>\n",
       "    <tr>\n",
       "      <th>min</th>\n",
       "      <td>0.000000</td>\n",
       "      <td>0.000000</td>\n",
       "      <td>0.000000</td>\n",
       "      <td>0.000000</td>\n",
       "      <td>0.000000</td>\n",
       "    </tr>\n",
       "    <tr>\n",
       "      <th>25%</th>\n",
       "      <td>40.000000</td>\n",
       "      <td>274.575000</td>\n",
       "      <td>9.000000</td>\n",
       "      <td>12491.902500</td>\n",
       "      <td>0.000000</td>\n",
       "    </tr>\n",
       "    <tr>\n",
       "      <th>50%</th>\n",
       "      <td>62.000000</td>\n",
       "      <td>430.600000</td>\n",
       "      <td>30.000000</td>\n",
       "      <td>16943.235000</td>\n",
       "      <td>0.000000</td>\n",
       "    </tr>\n",
       "    <tr>\n",
       "      <th>75%</th>\n",
       "      <td>82.000000</td>\n",
       "      <td>571.927500</td>\n",
       "      <td>57.000000</td>\n",
       "      <td>21424.700000</td>\n",
       "      <td>1.000000</td>\n",
       "    </tr>\n",
       "    <tr>\n",
       "      <th>max</th>\n",
       "      <td>244.000000</td>\n",
       "      <td>1632.060000</td>\n",
       "      <td>224.000000</td>\n",
       "      <td>49745.730000</td>\n",
       "      <td>1.000000</td>\n",
       "    </tr>\n",
       "  </tbody>\n",
       "</table>\n",
       "</div>"
      ],
      "text/plain": [
       "             calls      minutes     messages       mb_used     is_ultra\n",
       "count  3214.000000  3214.000000  3214.000000   3214.000000  3214.000000\n",
       "mean     63.038892   438.208787    38.281269  17207.673836     0.306472\n",
       "std      33.236368   234.569872    36.148326   7570.968246     0.461100\n",
       "min       0.000000     0.000000     0.000000      0.000000     0.000000\n",
       "25%      40.000000   274.575000     9.000000  12491.902500     0.000000\n",
       "50%      62.000000   430.600000    30.000000  16943.235000     0.000000\n",
       "75%      82.000000   571.927500    57.000000  21424.700000     1.000000\n",
       "max     244.000000  1632.060000   224.000000  49745.730000     1.000000"
      ]
     },
     "metadata": {},
     "output_type": "display_data"
    }
   ],
   "source": [
    "display(HTML('<hr>'))\n",
    "display(HTML('<h1> Datos de comportamiento de usuarios '))\n",
    "display(df.head())\n",
    "display(df.info())\n",
    "display(df.describe())"
   ]
  },
  {
   "cell_type": "markdown",
   "metadata": {},
   "source": [
    "<div class=\"alert alert-block alert-success\">\n",
    "\n",
    "<b>Comentario del revisor. (Iteración 1)\n",
    "    \n",
    "</b> <a class=\"tocSkip\"></a>\n",
    "\n",
    "    \n",
    "Excelente implementación de importaciones y carga de datos. A la vez excelente implementación de los métodos para observar la composición de los datos!"
   ]
  },
  {
   "cell_type": "markdown",
   "metadata": {},
   "source": [
    "### Verificacion de datos nulos "
   ]
  },
  {
   "cell_type": "code",
   "execution_count": 13,
   "metadata": {},
   "outputs": [
    {
     "data": {
      "text/html": [
       "<h2> Verificacion de valores nulos"
      ],
      "text/plain": [
       "<IPython.core.display.HTML object>"
      ]
     },
     "metadata": {},
     "output_type": "display_data"
    },
    {
     "data": {
      "text/plain": [
       "calls       0\n",
       "minutes     0\n",
       "messages    0\n",
       "mb_used     0\n",
       "is_ultra    0\n",
       "dtype: int64"
      ]
     },
     "metadata": {},
     "output_type": "display_data"
    }
   ],
   "source": [
    "nulos = df.isnull().sum()\n",
    "display(HTML('<h2> Verificacion de valores nulos'))\n",
    "display(nulos)\n"
   ]
  },
  {
   "cell_type": "markdown",
   "metadata": {},
   "source": [
    "### Verificación de valores duplicados"
   ]
  },
  {
   "cell_type": "code",
   "execution_count": 14,
   "metadata": {},
   "outputs": [
    {
     "data": {
      "text/html": [
       "<h2> Verificación de valores duplicados </h2>"
      ],
      "text/plain": [
       "<IPython.core.display.HTML object>"
      ]
     },
     "metadata": {},
     "output_type": "display_data"
    },
    {
     "data": {
      "text/plain": [
       "'Total de valores duplicados: 0'"
      ]
     },
     "metadata": {},
     "output_type": "display_data"
    },
    {
     "data": {
      "text/html": [
       "<hr>"
      ],
      "text/plain": [
       "<IPython.core.display.HTML object>"
      ]
     },
     "metadata": {},
     "output_type": "display_data"
    }
   ],
   "source": [
    "duplicados = df.duplicated().sum()\n",
    "display(HTML('<h2> Verificación de valores duplicados </h2>'))\n",
    "display(f\"Total de valores duplicados: {duplicados}\")\n",
    "\n",
    "display(HTML('<hr>'))"
   ]
  },
  {
   "cell_type": "markdown",
   "metadata": {},
   "source": [
    "<div class=\"alert alert-block alert-success\">\n",
    "\n",
    "<b>Comentario del revisor. (Iteración 1)\n",
    "    \n",
    "</b> <a class=\"tocSkip\"></a>\n",
    "\n",
    "    \n",
    "Y como siempre es útil corroborar los valores duplicados y ausentes, bien hecho, sigamos!"
   ]
  },
  {
   "cell_type": "markdown",
   "metadata": {},
   "source": [
    "### Comentario sobre la exploracion inicial del archivo"
   ]
  },
  {
   "cell_type": "markdown",
   "metadata": {},
   "source": [
    "Tras Realizar la exploracion inicial de datos se observo que no hay datos duplicados o nulos dentro del conjunto. Este conjunto de datos recopila informacion sobre el comportamiento de los usuarios, lo cuales engloban las llamadas, minutos utilizados, mensaje enviados y el uso de datos en MB"
   ]
  },
  {
   "cell_type": "markdown",
   "metadata": {},
   "source": [
    "### Segmentacion de datos en conjuntos de entrenamiento, validacion y prueba"
   ]
  },
  {
   "cell_type": "code",
   "execution_count": 21,
   "metadata": {},
   "outputs": [
    {
     "name": "stdout",
     "output_type": "stream",
     "text": [
      "Tamaño del conjunto de entrenamiento: 2249\n",
      "Tamaño del conjunto de validación: 482\n",
      "Tamaño del conjunto de prueba: 483\n"
     ]
    }
   ],
   "source": [
    "# Dividir los datos en características (X) y la variable objetivo (y)\n",
    "features = df.drop('is_ultra', axis=1)\n",
    "target = df['is_ultra']\n",
    "\n",
    "# Dividir los datos en conjuntos de entrenamiento (70%), validación (15%), y prueba (15%)\n",
    "X_train, X_temp, y_train, y_temp = train_test_split(features, target, test_size=0.3, random_state=12345)\n",
    "X_valid, X_test, y_valid, y_test = train_test_split(X_temp, y_temp, test_size=0.5, random_state=12345)\n",
    "\n",
    "# Muestra el tamaño de cada conjunto\n",
    "print(\"Tamaño del conjunto de entrenamiento:\", len(X_train))\n",
    "print(\"Tamaño del conjunto de validación:\", len(X_valid))\n",
    "print(\"Tamaño del conjunto de prueba:\", len(X_test))"
   ]
  },
  {
   "cell_type": "markdown",
   "metadata": {},
   "source": [
    "<div class=\"alert alert-block alert-success\">\n",
    "\n",
    "<b>Comentario del revisor. (Iteración 1)\n",
    "    \n",
    "</b> <a class=\"tocSkip\"></a>\n",
    "\n",
    "    \n",
    "Nuevamente excelente! División perfecta de los datos en los 3 conjuntos correspondientes, bien hecho!"
   ]
  },
  {
   "cell_type": "markdown",
   "metadata": {},
   "source": [
    "### Aplicar modelo Random Forest y evaluacion"
   ]
  },
  {
   "cell_type": "code",
   "execution_count": 22,
   "metadata": {},
   "outputs": [
    {
     "name": "stdout",
     "output_type": "stream",
     "text": [
      "Mejores hiperparámetros para Random Forest: {'max_depth': 10, 'min_samples_leaf': 1, 'min_samples_split': 2, 'n_estimators': 100}\n",
      "Exactitud del modelo Random Forest en el conjunto de prueba: 0.8033126293995859\n"
     ]
    }
   ],
   "source": [
    "#Definir la grilla de hiperparámetros para Random Forest\n",
    "param_grid_rf = {\n",
    "    'n_estimators': [100, 150, 200],\n",
    "    'max_depth': [5, 10, None],\n",
    "    'min_samples_leaf': [1, 4, 7],\n",
    "    'min_samples_split': [2, 5, 10]\n",
    "    }\n",
    "\n",
    "# Crear el objeto GridSearchCV\n",
    "grid_search_rf = GridSearchCV(estimator=RandomForestClassifier(random_state=12345), \n",
    "                              param_grid=param_grid_rf, \n",
    "                              cv=5, \n",
    "                              scoring='accuracy')\n",
    "\n",
    "# Ajustar GridSearchCV\n",
    "grid_search_rf.fit(X_train, y_train)\n",
    "\n",
    "# Mejores hiperparámetros\n",
    "print(\"Mejores hiperparámetros para Random Forest:\", grid_search_rf.best_params_)\n",
    "\n",
    "# Crear una nueva instancia del modelo con los mejores hiperparámetros\n",
    "best_rf_model = RandomForestClassifier(n_estimators=grid_search_rf.best_params_['n_estimators'],\n",
    "                                       max_depth=grid_search_rf.best_params_['max_depth'],\n",
    "                                       min_samples_leaf=grid_search_rf.best_params_['min_samples_leaf'],\n",
    "                                       min_samples_split=grid_search_rf.best_params_['min_samples_split'],\n",
    "                                       random_state=12345)\n",
    "\n",
    "# Entrenar el modelo con el conjunto de entrenamiento\n",
    "best_rf_model.fit(X_train, y_train)\n",
    "\n",
    "# Realizar predicciones en el conjunto de prueba y evaluar\n",
    "predictions_test_rf = best_rf_model.predict(X_test)\n",
    "accuracy_test_rf = accuracy_score(y_test, predictions_test_rf)\n",
    "print(\"Exactitud del modelo Random Forest en el conjunto de prueba:\", accuracy_test_rf)"
   ]
  },
  {
   "cell_type": "markdown",
   "metadata": {},
   "source": [
    "### Aplicar modelo Logistic Regression y evaluacion"
   ]
  },
  {
   "cell_type": "code",
   "execution_count": 17,
   "metadata": {},
   "outputs": [
    {
     "name": "stdout",
     "output_type": "stream",
     "text": [
      "Mejores hiperparámetros para Logistic Regression: {'C': 1, 'penalty': 'l1', 'solver': 'liblinear'}\n",
      "Exactitud del modelo Logistic Regression en el conjunto de prueba: 0.7391304347826086\n"
     ]
    }
   ],
   "source": [
    "# Definir la grilla de hiperparámetros para Regresión Logística\n",
    "param_grid_lr = {\n",
    "    'C': [0.01, 0.1, 1, 10],\n",
    "    'penalty': ['l1', 'l2'],\n",
    "    'solver': ['liblinear']\n",
    "}\n",
    "\n",
    "# Crear el objeto GridSearchCV\n",
    "grid_search_lr = GridSearchCV(estimator=LogisticRegression(random_state=12345, max_iter=200), param_grid=param_grid_lr, cv=5, scoring='accuracy')\n",
    "\n",
    "# Ajustar GridSearchCV\n",
    "grid_search_lr.fit(X_train, y_train)\n",
    "\n",
    "# Mejores hiperparámetros\n",
    "print(\"Mejores hiperparámetros para Logistic Regression:\", grid_search_lr.best_params_)\n",
    "\n",
    "# Crear una nueva instancia del modelo con los mejores hiperparámetros\n",
    "\n",
    "best_lr_model = LogisticRegression(C=grid_search_lr.best_params_['C'],\n",
    "                                       penalty=grid_search_lr.best_params_['penalty'],\n",
    "                                       solver=grid_search_lr.best_params_['solver'],\n",
    "                                       random_state=12345)\n",
    "\n",
    "# Entrenar el modelo con el conjunto de entramiento\n",
    "best_lr_model.fit(X_train, y_train)\n",
    "\n",
    "# Realizar predicciones en el conjunto de prueba y evaluar\n",
    "predictions_test_lr = best_lr_model.predict(X_test)\n",
    "accuracy_test_lr = accuracy_score(y_test, predictions_test_lr)\n",
    "print(\"Exactitud del modelo Logistic Regression en el conjunto de prueba:\", accuracy_test_lr)\n",
    "\n"
   ]
  },
  {
   "cell_type": "markdown",
   "metadata": {},
   "source": [
    "<div class=\"alert alert-block alert-success\">\n",
    "\n",
    "<b>Comentario del revisor. (Iteración 1)\n",
    "    \n",
    "</b> <a class=\"tocSkip\"></a>\n",
    "\n",
    "    \n",
    "Unos modelos perfectos Jorge! El procedimiento es muy completo teniendo en cuenta 2 tipos de modelos y utilizando técnicas como GridSearch para entcontrar los mejores hiperparametros posibles. A la vez un excelente enternamiento y puesta en común de resultados con las métricas correspondientes!"
   ]
  },
  {
   "cell_type": "markdown",
   "metadata": {},
   "source": [
    "### Prueba de cordura"
   ]
  },
  {
   "cell_type": "code",
   "execution_count": 18,
   "metadata": {},
   "outputs": [
    {
     "data": {
      "text/html": [
       "<hr>"
      ],
      "text/plain": [
       "<IPython.core.display.HTML object>"
      ]
     },
     "metadata": {},
     "output_type": "display_data"
    },
    {
     "data": {
      "text/html": [
       "<h2> Random forest: "
      ],
      "text/plain": [
       "<IPython.core.display.HTML object>"
      ]
     },
     "metadata": {},
     "output_type": "display_data"
    },
    {
     "name": "stdout",
     "output_type": "stream",
     "text": [
      "Importancia de características en Random Forest:\n",
      "           importance\n",
      "mb_used     0.367198\n",
      "minutes     0.232389\n",
      "calls       0.202064\n",
      "messages    0.198348\n"
     ]
    },
    {
     "data": {
      "text/html": [
       "<hr>"
      ],
      "text/plain": [
       "<IPython.core.display.HTML object>"
      ]
     },
     "metadata": {},
     "output_type": "display_data"
    },
    {
     "data": {
      "text/html": [
       "<h2> Logistic Regression: "
      ],
      "text/plain": [
       "<IPython.core.display.HTML object>"
      ]
     },
     "metadata": {},
     "output_type": "display_data"
    },
    {
     "name": "stdout",
     "output_type": "stream",
     "text": [
      "Importancia de las características en la Regresión Logística:\n",
      "           Coefficient\n",
      "messages     0.008967\n",
      "calls        0.002473\n",
      "minutes      0.001163\n",
      "mb_used      0.000040\n"
     ]
    }
   ],
   "source": [
    "# Analiza la importancia de las características\n",
    "rf_feature_importances = pd.DataFrame(best_rf_model.feature_importances_, index=X_train.columns, columns=['importance']).sort_values('importance', ascending=False)\n",
    "\n",
    "\n",
    "# Obtener los coeficientes del modelo\n",
    "lr_coefficients = best_lr_model.coef_[0]\n",
    "\n",
    "# Crear un DataFrame para visualizar los coeficientes (importancia) de cada característica\n",
    "lr_feature_importance = pd.DataFrame(lr_coefficients, \n",
    "                                     index=X_train.columns, \n",
    "                                     columns=['Coefficient']).sort_values('Coefficient', ascending=False)\n",
    "\n",
    "display(HTML('<hr>'))\n",
    "display(HTML('<h2> Random forest: '))\n",
    "print(\"Importancia de características en Random Forest:\\n\", rf_feature_importances)\n",
    "display(HTML('<hr>'))\n",
    "display(HTML('<h2> Logistic Regression: '))\n",
    "print(\"Importancia de las características en la Regresión Logística:\\n\", lr_feature_importance)\n",
    "\n"
   ]
  },
  {
   "cell_type": "markdown",
   "metadata": {},
   "source": [
    "<div class=\"alert alert-block alert-success\">\n",
    "\n",
    "<b>Comentario del revisor. (Iteración 1)\n",
    "    \n",
    "</b> <a class=\"tocSkip\"></a>\n",
    "\n",
    "Implementación perfecta del modelo de cordura, bien hecho!"
   ]
  },
  {
   "cell_type": "markdown",
   "metadata": {},
   "source": [
    "<div class=\"alert alert-block alert-warning\">\n",
    "\n",
    "<b>Comentario del revisor. (Iteración 1)\n",
    "    \n",
    "</b> <a class=\"tocSkip\"></a>\n",
    "\n",
    "Recordemos que siempre es positivo dejar conclusiones finales Jorge, aparte de eso el proyecto a estado perfecto!"
   ]
  },
  {
   "cell_type": "markdown",
   "metadata": {},
   "source": [
    "## Concluciones"
   ]
  },
  {
   "cell_type": "markdown",
   "metadata": {},
   "source": [
    "En el proceso de segmentación de datos, se dividieron los datos en conjuntos de entrenamiento (70%), validación (15%) y prueba (15%) para asegurar una evaluación adecuada de los modelos. Las características (X) se separaron de la variable objetivo (y), y las divisiones fueron confirmadas por los tamaños respectivos: entrenamiento (2249), validación (482), y prueba (483).\n",
    "\n",
    "Se aplicaron y evaluaron dos modelos de machine learning: Random Forest y Logistic Regression. El modelo Random Forest, optimizado con los hiperparámetros max_depth: 10, min_samples_leaf: 1, min_samples_split: 2 y n_estimators: 100, logró una exactitud del 80.33% en el conjunto de prueba. La importancia de las características indicó que mb_used (datos usados) era la más relevante, seguida por minutes (minutos), calls (llamadas) y messages (mensajes).\n",
    "\n",
    "Por otro lado, el modelo de Regresión Logística, optimizado con los hiperparámetros C: 1, penalty: l1 y solver: liblinear, alcanzó una exactitud del 73.91% en el conjunto de prueba. La importancia de las características mostró que messages tenía el mayor coeficiente, seguido por calls, minutes y mb_used.\n",
    "\n",
    "En resumen, el modelo Random Forest demostró un mejor rendimiento en términos de exactitud comparado con la Regresión Logística. Además, la importancia de las características fue más significativa y clara en el modelo Random Forest."
   ]
  }
 ],
 "metadata": {
  "ExecuteTimeLog": [
   {
    "duration": 1234,
    "start_time": "2024-07-02T04:57:39.781Z"
   },
   {
    "duration": 3,
    "start_time": "2024-07-02T04:57:41.306Z"
   },
   {
    "duration": 3,
    "start_time": "2024-07-02T04:57:53.005Z"
   },
   {
    "duration": 1221,
    "start_time": "2024-07-02T04:57:55.593Z"
   },
   {
    "duration": 118,
    "start_time": "2024-07-02T05:01:49.885Z"
   },
   {
    "duration": 405,
    "start_time": "2024-07-02T05:02:47.926Z"
   },
   {
    "duration": 25,
    "start_time": "2024-07-02T05:03:50.420Z"
   },
   {
    "duration": 4,
    "start_time": "2024-07-02T05:03:59.490Z"
   },
   {
    "duration": 767,
    "start_time": "2024-07-02T05:04:01.349Z"
   },
   {
    "duration": 27,
    "start_time": "2024-07-02T05:04:03.214Z"
   },
   {
    "duration": 63,
    "start_time": "2024-07-02T05:05:32.649Z"
   },
   {
    "duration": 53,
    "start_time": "2024-07-02T05:06:34.498Z"
   },
   {
    "duration": 14,
    "start_time": "2024-07-02T05:06:56.982Z"
   },
   {
    "duration": 3,
    "start_time": "2024-07-02T05:07:24.295Z"
   },
   {
    "duration": 13,
    "start_time": "2024-07-02T05:07:50.907Z"
   },
   {
    "duration": 23,
    "start_time": "2024-07-02T05:13:51.313Z"
   },
   {
    "duration": 14,
    "start_time": "2024-07-02T05:13:53.910Z"
   },
   {
    "duration": 1524,
    "start_time": "2024-07-03T00:08:24.467Z"
   },
   {
    "duration": 461,
    "start_time": "2024-07-03T00:08:25.994Z"
   },
   {
    "duration": 91,
    "start_time": "2024-07-03T00:08:26.459Z"
   },
   {
    "duration": 15,
    "start_time": "2024-07-03T00:08:26.555Z"
   },
   {
    "duration": 17,
    "start_time": "2024-07-03T00:08:26.573Z"
   },
   {
    "duration": 47,
    "start_time": "2024-07-03T00:08:26.593Z"
   },
   {
    "duration": 3,
    "start_time": "2024-07-03T00:08:26.643Z"
   },
   {
    "duration": 7,
    "start_time": "2024-07-03T00:08:26.649Z"
   },
   {
    "duration": 5,
    "start_time": "2024-07-03T00:08:46.061Z"
   },
   {
    "duration": 432,
    "start_time": "2024-07-03T00:08:46.070Z"
   },
   {
    "duration": 72,
    "start_time": "2024-07-03T00:08:46.505Z"
   },
   {
    "duration": 12,
    "start_time": "2024-07-03T00:08:46.582Z"
   },
   {
    "duration": 38,
    "start_time": "2024-07-03T00:08:46.600Z"
   },
   {
    "duration": 16,
    "start_time": "2024-07-03T00:08:46.641Z"
   },
   {
    "duration": 4,
    "start_time": "2024-07-03T00:08:46.660Z"
   },
   {
    "duration": 5,
    "start_time": "2024-07-03T00:08:51.955Z"
   },
   {
    "duration": 417,
    "start_time": "2024-07-03T00:08:53.438Z"
   },
   {
    "duration": 54,
    "start_time": "2024-07-03T00:08:54.936Z"
   },
   {
    "duration": 11,
    "start_time": "2024-07-03T00:08:56.780Z"
   },
   {
    "duration": 13,
    "start_time": "2024-07-03T00:08:58.004Z"
   },
   {
    "duration": 17,
    "start_time": "2024-07-03T00:09:00.329Z"
   },
   {
    "duration": 14,
    "start_time": "2024-07-03T00:09:01.689Z"
   },
   {
    "duration": 8,
    "start_time": "2024-07-03T00:09:02.512Z"
   },
   {
    "duration": 233161,
    "start_time": "2024-07-03T00:09:41.316Z"
   },
   {
    "duration": 425,
    "start_time": "2024-07-03T00:13:56.760Z"
   },
   {
    "duration": 33,
    "start_time": "2024-07-03T00:14:49.395Z"
   },
   {
    "duration": 1261,
    "start_time": "2024-07-03T16:39:00.560Z"
   },
   {
    "duration": 422,
    "start_time": "2024-07-03T16:39:01.830Z"
   },
   {
    "duration": 89,
    "start_time": "2024-07-03T16:39:02.256Z"
   },
   {
    "duration": 18,
    "start_time": "2024-07-03T16:39:02.352Z"
   },
   {
    "duration": 22,
    "start_time": "2024-07-03T16:39:02.376Z"
   },
   {
    "duration": 17,
    "start_time": "2024-07-03T16:39:02.430Z"
   },
   {
    "duration": 1211,
    "start_time": "2024-07-03T16:40:37.263Z"
   },
   {
    "duration": 474,
    "start_time": "2024-07-03T16:40:38.478Z"
   },
   {
    "duration": 75,
    "start_time": "2024-07-03T16:40:38.955Z"
   },
   {
    "duration": 12,
    "start_time": "2024-07-03T16:40:39.034Z"
   },
   {
    "duration": 17,
    "start_time": "2024-07-03T16:40:39.049Z"
   },
   {
    "duration": 12,
    "start_time": "2024-07-03T16:40:39.071Z"
   },
   {
    "duration": 239433,
    "start_time": "2024-07-03T16:40:39.130Z"
   },
   {
    "duration": 458,
    "start_time": "2024-07-03T16:44:38.566Z"
   },
   {
    "duration": 32,
    "start_time": "2024-07-03T16:44:39.031Z"
   },
   {
    "duration": 5,
    "start_time": "2024-07-03T16:46:16.300Z"
   },
   {
    "duration": 465,
    "start_time": "2024-07-03T16:46:16.310Z"
   },
   {
    "duration": 54,
    "start_time": "2024-07-03T16:46:16.777Z"
   },
   {
    "duration": 11,
    "start_time": "2024-07-03T16:46:16.834Z"
   },
   {
    "duration": 14,
    "start_time": "2024-07-03T16:46:16.849Z"
   },
   {
    "duration": 13,
    "start_time": "2024-07-03T16:46:16.867Z"
   },
   {
    "duration": 237432,
    "start_time": "2024-07-03T16:46:16.884Z"
   },
   {
    "duration": 461,
    "start_time": "2024-07-03T16:50:14.319Z"
   },
   {
    "duration": 55,
    "start_time": "2024-07-03T16:50:14.785Z"
   },
   {
    "duration": 12,
    "start_time": "2024-07-03T16:51:06.067Z"
   },
   {
    "duration": 241631,
    "start_time": "2024-07-03T16:51:10.578Z"
   },
   {
    "duration": 30,
    "start_time": "2024-07-03T16:58:41.795Z"
   },
   {
    "duration": 247966,
    "start_time": "2024-07-03T16:58:45.490Z"
   }
  ],
  "kernelspec": {
   "display_name": "Python 3 (ipykernel)",
   "language": "python",
   "name": "python3"
  },
  "language_info": {
   "codemirror_mode": {
    "name": "ipython",
    "version": 3
   },
   "file_extension": ".py",
   "mimetype": "text/x-python",
   "name": "python",
   "nbconvert_exporter": "python",
   "pygments_lexer": "ipython3",
   "version": "3.9.19"
  },
  "toc": {
   "base_numbering": 1,
   "nav_menu": {},
   "number_sections": true,
   "sideBar": true,
   "skip_h1_title": true,
   "title_cell": "Table of Contents",
   "title_sidebar": "Contents",
   "toc_cell": false,
   "toc_position": {
    "height": "calc(100% - 180px)",
    "left": "10px",
    "top": "150px",
    "width": "165px"
   },
   "toc_section_display": true,
   "toc_window_display": true
  }
 },
 "nbformat": 4,
 "nbformat_minor": 2
}
